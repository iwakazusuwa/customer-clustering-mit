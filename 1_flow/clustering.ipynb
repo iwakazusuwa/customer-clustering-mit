{
 "cells": [
  {
   "cell_type": "code",
   "execution_count": null,
   "id": "b8b355e1-87cf-433f-9d33-543b65d76244",
   "metadata": {},
   "outputs": [],
   "source": []
  },
  {
   "cell_type": "code",
   "execution_count": 1,
   "id": "5947b684-7515-4f5e-9006-f3207c29e9ca",
   "metadata": {},
   "outputs": [
    {
     "data": {
      "image/png": "[encoded data removed]",
      "text/plain": [
       "<Figure size 432x288 with 1 Axes>"
      ]
     },
     "metadata": {
      "needs_background": "light"
     },
     "output_type": "display_data"
    },
    {
     "name": "stdout",
     "output_type": "stream",
     "text": [
      "処理完了\n"
     ]
    }
   ],
   "source": [
    "import pandas as pd\n",
    "import numpy as np\n",
    "import os\n",
    "import sys\n",
    "import subprocess  # 追加\n",
    "from scipy.cluster.hierarchy import linkage, dendrogram, fcluster\n",
    "import matplotlib.pyplot as plt\n",
    "\n",
    "# 変数設定\n",
    "INPUT_FOLDER = \"2_data\"\n",
    "INPUT_FILE = 'sample.csv' \n",
    "OUTPUT_FOLDER = \"3_output\"\n",
    "SAVE_NAME ='clustering.png'\n",
    "threshold_distance = 1500  # y軸閾値\n",
    "criter = 8                 # クラスタ数\n",
    "ID = \"顧客ID\"\n",
    "\n",
    "# パス設定\n",
    "current_dpath = os.getcwd()\n",
    "parent_dpath = os.path.dirname(current_dpath)\n",
    "\n",
    "input_path = os.path.join(parent_dpath, INPUT_FOLDER, INPUT_FILE)\n",
    "output_path = os.path.join(parent_dpath, OUTPUT_FOLDER)\n",
    "os.makedirs(output_path, exist_ok=True)\n",
    "\n",
    "save_path = os.path.join(output_path, SAVE_NAME)\n",
    "\n",
    "# CSV読み込み（エンコード判定）\n",
    "try:\n",
    "    df = pd.read_csv(input_path, encoding=\"utf-8\")\n",
    "except UnicodeDecodeError:\n",
    "    df = pd.read_csv(input_path, encoding=\"cp932\")\n",
    "\n",
    "\n",
    "# linkage計算\n",
    "Z = linkage(df.iloc[:, 1:4], method='ward')\n",
    "\n",
    "# デンドログラム描画\n",
    "dendro = dendrogram(Z, labels=df[ID].values)\n",
    "plt.axhline(y=threshold_distance, color='red', linestyle='--')\n",
    "plt.rcParams[\"font.size\"] = 10\n",
    "plt.savefig(save_path)\n",
    "plt.show()\n",
    "\n",
    "# ① 閾値で分割\n",
    "labels_distance = fcluster(Z, t=threshold_distance, criterion='distance')\n",
    "df_distance = df.copy()\n",
    "df_distance[\"cluster\"] = labels_distance\n",
    "ordered_df_distance = df_distance.iloc[dendro[\"leaves\"]].reset_index(drop=True)\n",
    "\n",
    "ordered_df_distance.to_csv(\n",
    "    os.path.join(output_path, f\"clustering_distance_{threshold_distance}.csv\"),\n",
    "    index=False, encoding='utf-8-sig'\n",
    ")\n",
    "\n",
    "# ② クラスタ数で分割\n",
    "labels_maxclust = fcluster(Z, t=criter, criterion='maxclust')\n",
    "df_maxclust = df.copy()\n",
    "df_maxclust['cluster'] = labels_maxclust\n",
    "\n",
    "df_maxclust.to_csv(\n",
    "    os.path.join(output_path, f\"clustering_maxclust_{criter}.csv\"),\n",
    "    index=False, encoding='utf-8-sig'\n",
    ")\n",
    "\n",
    "# 保存フォルダを開く（OS別対応）\n",
    "if sys.platform.startswith('win'):\n",
    "    os.startfile(output_path)\n",
    "elif sys.platform.startswith('darwin'):\n",
    "    subprocess.run(['open', output_path])\n",
    "else:\n",
    "    subprocess.run(['xdg-open', output_path])\n",
    "\n",
    "print('処理完了')\n"
   ]
  },
  {
   "cell_type": "code",
   "execution_count": null,
   "id": "54edc35d-ae40-4740-b4e6-f906d1bad7f1",
   "metadata": {},
   "outputs": [],
   "source": []
  }
 ],
 "metadata": {
  "kernelspec": {
   "display_name": "Python 3 (ipykernel)",
   "language": "python",
   "name": "python3"
  },
  "language_info": {
   "codemirror_mode": {
    "name": "ipython",
    "version": 3
   },
   "file_extension": ".py",
   "mimetype": "text/x-python",
   "name": "python",
   "nbconvert_exporter": "python",
   "pygments_lexer": "ipython3",
   "version": "3.8.10"
  }
 },
 "nbformat": 4,
 "nbformat_minor": 5
}
